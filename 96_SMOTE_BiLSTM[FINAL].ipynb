{
 "cells": [
  {
   "cell_type": "code",
   "execution_count": 1,
   "metadata": {},
   "outputs": [],
   "source": [
    "# smote, code smzna, bilstm, \n",
    "# glove on cnn+bilstm, "
   ]
  },
  {
   "cell_type": "code",
   "execution_count": 2,
   "metadata": {},
   "outputs": [],
   "source": [
    "# changes=> 70 30 split\n",
    "# model mdhe changes\n",
    "# smote applied"
   ]
  },
  {
   "cell_type": "code",
   "execution_count": 52,
   "metadata": {},
   "outputs": [],
   "source": [
    "import pandas as pd"
   ]
  },
  {
   "cell_type": "code",
   "execution_count": 53,
   "metadata": {},
   "outputs": [
    {
     "data": {
      "text/plain": [
       "(49972, 4)"
      ]
     },
     "execution_count": 53,
     "metadata": {},
     "output_type": "execute_result"
    }
   ],
   "source": [
    "df=pd.read_csv('./merged1.csv')\n",
    "df.shape"
   ]
  },
  {
   "cell_type": "code",
   "execution_count": 54,
   "metadata": {},
   "outputs": [
    {
     "data": {
      "text/html": [
       "<div>\n",
       "<style scoped>\n",
       "    .dataframe tbody tr th:only-of-type {\n",
       "        vertical-align: middle;\n",
       "    }\n",
       "\n",
       "    .dataframe tbody tr th {\n",
       "        vertical-align: top;\n",
       "    }\n",
       "\n",
       "    .dataframe thead th {\n",
       "        text-align: right;\n",
       "    }\n",
       "</style>\n",
       "<table border=\"1\" class=\"dataframe\">\n",
       "  <thead>\n",
       "    <tr style=\"text-align: right;\">\n",
       "      <th></th>\n",
       "      <th>Headline</th>\n",
       "      <th>Body ID</th>\n",
       "      <th>articleBody</th>\n",
       "      <th>label</th>\n",
       "    </tr>\n",
       "  </thead>\n",
       "  <tbody>\n",
       "    <tr>\n",
       "      <th>0</th>\n",
       "      <td>Hundreds of Palestinians flee floods in Gaza a...</td>\n",
       "      <td>158</td>\n",
       "      <td>Hundreds of Palestinians were evacuated from t...</td>\n",
       "      <td>1</td>\n",
       "    </tr>\n",
       "    <tr>\n",
       "      <th>1</th>\n",
       "      <td>'Nasa Confirms Earth Will Experience 6 Days of...</td>\n",
       "      <td>154</td>\n",
       "      <td>Thousands of people have been duped by a fake ...</td>\n",
       "      <td>1</td>\n",
       "    </tr>\n",
       "    <tr>\n",
       "      <th>2</th>\n",
       "      <td>Banksy 'Arrested &amp; Real Identity Revealed' Is ...</td>\n",
       "      <td>1739</td>\n",
       "      <td>If you’ve seen a story floating around on your...</td>\n",
       "      <td>1</td>\n",
       "    </tr>\n",
       "    <tr>\n",
       "      <th>3</th>\n",
       "      <td>Gateway Pundit</td>\n",
       "      <td>2327</td>\n",
       "      <td>A British rapper whose father is awaiting tria...</td>\n",
       "      <td>1</td>\n",
       "    </tr>\n",
       "    <tr>\n",
       "      <th>4</th>\n",
       "      <td>Woman detained in Lebanon is not al-Baghdadi's...</td>\n",
       "      <td>1468</td>\n",
       "      <td>An Iraqi official denied that a woman detained...</td>\n",
       "      <td>1</td>\n",
       "    </tr>\n",
       "  </tbody>\n",
       "</table>\n",
       "</div>"
      ],
      "text/plain": [
       "                                            Headline  Body ID  \\\n",
       "0  Hundreds of Palestinians flee floods in Gaza a...      158   \n",
       "1  'Nasa Confirms Earth Will Experience 6 Days of...      154   \n",
       "2  Banksy 'Arrested & Real Identity Revealed' Is ...     1739   \n",
       "3                                     Gateway Pundit     2327   \n",
       "4  Woman detained in Lebanon is not al-Baghdadi's...     1468   \n",
       "\n",
       "                                         articleBody  label  \n",
       "0  Hundreds of Palestinians were evacuated from t...      1  \n",
       "1  Thousands of people have been duped by a fake ...      1  \n",
       "2  If you’ve seen a story floating around on your...      1  \n",
       "3  A British rapper whose father is awaiting tria...      1  \n",
       "4  An Iraqi official denied that a woman detained...      1  "
      ]
     },
     "execution_count": 54,
     "metadata": {},
     "output_type": "execute_result"
    }
   ],
   "source": [
    "df.head()"
   ]
  },
  {
   "cell_type": "code",
   "execution_count": 57,
   "metadata": {},
   "outputs": [
    {
     "data": {
      "text/html": [
       "<div>\n",
       "<style scoped>\n",
       "    .dataframe tbody tr th:only-of-type {\n",
       "        vertical-align: middle;\n",
       "    }\n",
       "\n",
       "    .dataframe tbody tr th {\n",
       "        vertical-align: top;\n",
       "    }\n",
       "\n",
       "    .dataframe thead th {\n",
       "        text-align: right;\n",
       "    }\n",
       "</style>\n",
       "<table border=\"1\" class=\"dataframe\">\n",
       "  <thead>\n",
       "    <tr style=\"text-align: right;\">\n",
       "      <th></th>\n",
       "      <th>Headline</th>\n",
       "      <th>Body ID</th>\n",
       "      <th>articleBody</th>\n",
       "      <th>label</th>\n",
       "    </tr>\n",
       "  </thead>\n",
       "  <tbody>\n",
       "    <tr>\n",
       "      <th>9280</th>\n",
       "      <td>Nigeria says ceasefire agreed with Boko Haram</td>\n",
       "      <td>600</td>\n",
       "      <td>Abuja (AFP) - Nigeria on Friday claimed to hav...</td>\n",
       "      <td>1</td>\n",
       "    </tr>\n",
       "    <tr>\n",
       "      <th>27515</th>\n",
       "      <td>Israeli Canadian fighting ISIS posts on Facebo...</td>\n",
       "      <td>1808</td>\n",
       "      <td>We're just two months away from the Apple Watc...</td>\n",
       "      <td>0</td>\n",
       "    </tr>\n",
       "    <tr>\n",
       "      <th>19643</th>\n",
       "      <td>IS Beheads Briton David Cawthorne Haines, Thre...</td>\n",
       "      <td>1011</td>\n",
       "      <td>WARNING: GRAPHIC IMAGES. A masked militant cla...</td>\n",
       "      <td>0</td>\n",
       "    </tr>\n",
       "    <tr>\n",
       "      <th>12569</th>\n",
       "      <td>American hostage in Yemen freed in military ra...</td>\n",
       "      <td>1844</td>\n",
       "      <td>SANA, Yemen — An American journalist held for ...</td>\n",
       "      <td>1</td>\n",
       "    </tr>\n",
       "    <tr>\n",
       "      <th>36274</th>\n",
       "      <td>Turkish Leader Says U.S. Airdrop Aided ISIS Mi...</td>\n",
       "      <td>305</td>\n",
       "      <td>This video is the epitome of a close shave.\\n\\...</td>\n",
       "      <td>0</td>\n",
       "    </tr>\n",
       "  </tbody>\n",
       "</table>\n",
       "</div>"
      ],
      "text/plain": [
       "                                                Headline  Body ID  \\\n",
       "9280       Nigeria says ceasefire agreed with Boko Haram      600   \n",
       "27515  Israeli Canadian fighting ISIS posts on Facebo...     1808   \n",
       "19643  IS Beheads Briton David Cawthorne Haines, Thre...     1011   \n",
       "12569  American hostage in Yemen freed in military ra...     1844   \n",
       "36274  Turkish Leader Says U.S. Airdrop Aided ISIS Mi...      305   \n",
       "\n",
       "                                             articleBody  label  \n",
       "9280   Abuja (AFP) - Nigeria on Friday claimed to hav...      1  \n",
       "27515  We're just two months away from the Apple Watc...      0  \n",
       "19643  WARNING: GRAPHIC IMAGES. A masked militant cla...      0  \n",
       "12569  SANA, Yemen — An American journalist held for ...      1  \n",
       "36274  This video is the epitome of a close shave.\\n\\...      0  "
      ]
     },
     "execution_count": 57,
     "metadata": {},
     "output_type": "execute_result"
    }
   ],
   "source": [
    "df.sample(5)"
   ]
  },
  {
   "cell_type": "code",
   "execution_count": 58,
   "metadata": {},
   "outputs": [
    {
     "name": "stdout",
     "output_type": "stream",
     "text": [
      "<class 'pandas.core.frame.DataFrame'>\n",
      "RangeIndex: 49972 entries, 0 to 49971\n",
      "Data columns (total 4 columns):\n",
      " #   Column       Non-Null Count  Dtype \n",
      "---  ------       --------------  ----- \n",
      " 0   Headline     49972 non-null  object\n",
      " 1   Body ID      49972 non-null  int64 \n",
      " 2   articleBody  49972 non-null  object\n",
      " 3   label        49972 non-null  int64 \n",
      "dtypes: int64(2), object(2)\n",
      "memory usage: 1.5+ MB\n"
     ]
    }
   ],
   "source": [
    "df.info()"
   ]
  },
  {
   "cell_type": "code",
   "execution_count": 59,
   "metadata": {},
   "outputs": [
    {
     "data": {
      "text/plain": [
       "Headline       0\n",
       "Body ID        0\n",
       "articleBody    0\n",
       "label          0\n",
       "dtype: int64"
      ]
     },
     "execution_count": 59,
     "metadata": {},
     "output_type": "execute_result"
    }
   ],
   "source": [
    "df.isnull().sum()"
   ]
  },
  {
   "cell_type": "code",
   "execution_count": 60,
   "metadata": {},
   "outputs": [
    {
     "data": {
      "text/html": [
       "<div>\n",
       "<style scoped>\n",
       "    .dataframe tbody tr th:only-of-type {\n",
       "        vertical-align: middle;\n",
       "    }\n",
       "\n",
       "    .dataframe tbody tr th {\n",
       "        vertical-align: top;\n",
       "    }\n",
       "\n",
       "    .dataframe thead th {\n",
       "        text-align: right;\n",
       "    }\n",
       "</style>\n",
       "<table border=\"1\" class=\"dataframe\">\n",
       "  <thead>\n",
       "    <tr style=\"text-align: right;\">\n",
       "      <th></th>\n",
       "      <th>Body ID</th>\n",
       "      <th>label</th>\n",
       "    </tr>\n",
       "  </thead>\n",
       "  <tbody>\n",
       "    <tr>\n",
       "      <th>count</th>\n",
       "      <td>49972.000000</td>\n",
       "      <td>49972.000000</td>\n",
       "    </tr>\n",
       "    <tr>\n",
       "      <th>mean</th>\n",
       "      <td>1366.254863</td>\n",
       "      <td>0.251881</td>\n",
       "    </tr>\n",
       "    <tr>\n",
       "      <th>std</th>\n",
       "      <td>730.086644</td>\n",
       "      <td>0.434098</td>\n",
       "    </tr>\n",
       "    <tr>\n",
       "      <th>min</th>\n",
       "      <td>0.000000</td>\n",
       "      <td>0.000000</td>\n",
       "    </tr>\n",
       "    <tr>\n",
       "      <th>25%</th>\n",
       "      <td>737.750000</td>\n",
       "      <td>0.000000</td>\n",
       "    </tr>\n",
       "    <tr>\n",
       "      <th>50%</th>\n",
       "      <td>1419.000000</td>\n",
       "      <td>0.000000</td>\n",
       "    </tr>\n",
       "    <tr>\n",
       "      <th>75%</th>\n",
       "      <td>2002.000000</td>\n",
       "      <td>1.000000</td>\n",
       "    </tr>\n",
       "    <tr>\n",
       "      <th>max</th>\n",
       "      <td>2532.000000</td>\n",
       "      <td>1.000000</td>\n",
       "    </tr>\n",
       "  </tbody>\n",
       "</table>\n",
       "</div>"
      ],
      "text/plain": [
       "            Body ID         label\n",
       "count  49972.000000  49972.000000\n",
       "mean    1366.254863      0.251881\n",
       "std      730.086644      0.434098\n",
       "min        0.000000      0.000000\n",
       "25%      737.750000      0.000000\n",
       "50%     1419.000000      0.000000\n",
       "75%     2002.000000      1.000000\n",
       "max     2532.000000      1.000000"
      ]
     },
     "execution_count": 60,
     "metadata": {},
     "output_type": "execute_result"
    }
   ],
   "source": [
    "df.describe()"
   ]
  },
  {
   "cell_type": "code",
   "execution_count": 61,
   "metadata": {},
   "outputs": [
    {
     "data": {
      "text/plain": [
       "402"
      ]
     },
     "execution_count": 61,
     "metadata": {},
     "output_type": "execute_result"
    }
   ],
   "source": [
    "df.duplicated().sum()"
   ]
  },
  {
   "cell_type": "code",
   "execution_count": 62,
   "metadata": {},
   "outputs": [
    {
     "name": "stdout",
     "output_type": "stream",
     "text": [
      "                                                Headline  Body ID  \\\n",
      "693    #HairGate: iPhone 6 Customers Are Complaining ...     2476   \n",
      "1104   MPs credit sergeant-at-arms for saving lives i...     1900   \n",
      "1826   Seven girls fall pregnant after five day schoo...     2508   \n",
      "2046   YPG Confirms: Gill Rosenberg Not Captured in K...     1106   \n",
      "2299   McDonald’s Removing Big Mac, Apple Pies And El...     1026   \n",
      "...                                                  ...      ...   \n",
      "49568  Nun gives birth to surprise baby after complai...     1164   \n",
      "49593  WHO says reports of suspected Ebola cases in I...       93   \n",
      "49640  MPs credit sergeant-at-arms for saving lives i...     1002   \n",
      "49818  ISIS Leader Killed: Abu Bakr Al-Baghdadi Repor...      511   \n",
      "49865  Government fires employee who skipped work for...      686   \n",
      "\n",
      "                                             articleBody  label  \n",
      "693    Apple is continuing to experience \"Hairgate\" p...      1  \n",
      "1104   He’s being called a hero for shooting a rampag...      1  \n",
      "1826   28 girls, aged 13 and 14, from a small town we...      1  \n",
      "2046   KOBANE , Syria, Dec. 1 (UPI) -- There are conf...      1  \n",
      "2299   McDonald’s has just announced that it will be ...      1  \n",
      "...                                                  ...    ...  \n",
      "49568  Hundreds of dog-lovers from Britain, the U.S.,...      0  \n",
      "49593  A Chinese woman spent an entire week in a KFC ...      0  \n",
      "49640  Seth Rogen is in early talks to play the Apple...      0  \n",
      "49818  The leaked video of Georgy Myakinkin's protest...      0  \n",
      "49865  Brian Williams took a moment during Monday’s e...      0  \n",
      "\n",
      "[402 rows x 4 columns]\n"
     ]
    }
   ],
   "source": [
    "duplicated_rows = df[df.duplicated()]\n",
    "print(duplicated_rows)\n"
   ]
  },
  {
   "cell_type": "code",
   "execution_count": 63,
   "metadata": {},
   "outputs": [],
   "source": [
    "df = df.drop_duplicates()\n"
   ]
  },
  {
   "cell_type": "code",
   "execution_count": 64,
   "metadata": {},
   "outputs": [
    {
     "data": {
      "text/plain": [
       "(49570, 4)"
      ]
     },
     "execution_count": 64,
     "metadata": {},
     "output_type": "execute_result"
    }
   ],
   "source": [
    "df.shape"
   ]
  },
  {
   "cell_type": "code",
   "execution_count": 65,
   "metadata": {},
   "outputs": [
    {
     "data": {
      "text/html": [
       "<div>\n",
       "<style scoped>\n",
       "    .dataframe tbody tr th:only-of-type {\n",
       "        vertical-align: middle;\n",
       "    }\n",
       "\n",
       "    .dataframe tbody tr th {\n",
       "        vertical-align: top;\n",
       "    }\n",
       "\n",
       "    .dataframe thead th {\n",
       "        text-align: right;\n",
       "    }\n",
       "</style>\n",
       "<table border=\"1\" class=\"dataframe\">\n",
       "  <thead>\n",
       "    <tr style=\"text-align: right;\">\n",
       "      <th></th>\n",
       "      <th>Headline</th>\n",
       "      <th>Body ID</th>\n",
       "      <th>articleBody</th>\n",
       "      <th>label</th>\n",
       "    </tr>\n",
       "  </thead>\n",
       "  <tbody>\n",
       "    <tr>\n",
       "      <th>48484</th>\n",
       "      <td>Isis militants claim to have killed US journal...</td>\n",
       "      <td>2453</td>\n",
       "      <td>A short video clip has been circulating online...</td>\n",
       "      <td>0</td>\n",
       "    </tr>\n",
       "    <tr>\n",
       "      <th>7086</th>\n",
       "      <td>Islamic State, in video titled \"A Message to A...</td>\n",
       "      <td>2096</td>\n",
       "      <td>Islamic State militants have released a graphi...</td>\n",
       "      <td>1</td>\n",
       "    </tr>\n",
       "    <tr>\n",
       "      <th>17588</th>\n",
       "      <td>Priest' claim of seeing God as a woman dismiss...</td>\n",
       "      <td>398</td>\n",
       "      <td>(CNN) -- Could a newly released audio provide ...</td>\n",
       "      <td>0</td>\n",
       "    </tr>\n",
       "    <tr>\n",
       "      <th>29125</th>\n",
       "      <td>The Internet Tried To Make Axl Rose Its Latest...</td>\n",
       "      <td>533</td>\n",
       "      <td>The heroic sergeant-at-arms who shot dead a lo...</td>\n",
       "      <td>0</td>\n",
       "    </tr>\n",
       "    <tr>\n",
       "      <th>26773</th>\n",
       "      <td>Canadian-Israeli Woman Says She Hasn’t Been Ca...</td>\n",
       "      <td>387</td>\n",
       "      <td>(Nov. 26, 2014) – Your Thanksgiving turkey is ...</td>\n",
       "      <td>0</td>\n",
       "    </tr>\n",
       "  </tbody>\n",
       "</table>\n",
       "</div>"
      ],
      "text/plain": [
       "                                                Headline  Body ID  \\\n",
       "48484  Isis militants claim to have killed US journal...     2453   \n",
       "7086   Islamic State, in video titled \"A Message to A...     2096   \n",
       "17588  Priest' claim of seeing God as a woman dismiss...      398   \n",
       "29125  The Internet Tried To Make Axl Rose Its Latest...      533   \n",
       "26773  Canadian-Israeli Woman Says She Hasn’t Been Ca...      387   \n",
       "\n",
       "                                             articleBody  label  \n",
       "48484  A short video clip has been circulating online...      0  \n",
       "7086   Islamic State militants have released a graphi...      1  \n",
       "17588  (CNN) -- Could a newly released audio provide ...      0  \n",
       "29125  The heroic sergeant-at-arms who shot dead a lo...      0  \n",
       "26773  (Nov. 26, 2014) – Your Thanksgiving turkey is ...      0  "
      ]
     },
     "execution_count": 65,
     "metadata": {},
     "output_type": "execute_result"
    }
   ],
   "source": [
    "df.sample(5)"
   ]
  },
  {
   "cell_type": "code",
   "execution_count": 15,
   "metadata": {},
   "outputs": [
    {
     "name": "stdout",
     "output_type": "stream",
     "text": [
      "<class 'pandas.core.frame.DataFrame'>\n",
      "Index: 49570 entries, 0 to 49971\n",
      "Data columns (total 4 columns):\n",
      " #   Column       Non-Null Count  Dtype \n",
      "---  ------       --------------  ----- \n",
      " 0   Headline     49570 non-null  object\n",
      " 1   Body ID      49570 non-null  int64 \n",
      " 2   articleBody  49570 non-null  object\n",
      " 3   label        49570 non-null  int64 \n",
      "dtypes: int64(2), object(2)\n",
      "memory usage: 1.9+ MB\n"
     ]
    }
   ],
   "source": [
    "df.info()"
   ]
  },
  {
   "cell_type": "code",
   "execution_count": 16,
   "metadata": {},
   "outputs": [
    {
     "data": {
      "text/html": [
       "<div>\n",
       "<style scoped>\n",
       "    .dataframe tbody tr th:only-of-type {\n",
       "        vertical-align: middle;\n",
       "    }\n",
       "\n",
       "    .dataframe tbody tr th {\n",
       "        vertical-align: top;\n",
       "    }\n",
       "\n",
       "    .dataframe thead th {\n",
       "        text-align: right;\n",
       "    }\n",
       "</style>\n",
       "<table border=\"1\" class=\"dataframe\">\n",
       "  <thead>\n",
       "    <tr style=\"text-align: right;\">\n",
       "      <th></th>\n",
       "      <th>Body ID</th>\n",
       "      <th>label</th>\n",
       "    </tr>\n",
       "  </thead>\n",
       "  <tbody>\n",
       "    <tr>\n",
       "      <th>count</th>\n",
       "      <td>49570.000000</td>\n",
       "      <td>49570.000000</td>\n",
       "    </tr>\n",
       "    <tr>\n",
       "      <th>mean</th>\n",
       "      <td>1366.436696</td>\n",
       "      <td>0.251705</td>\n",
       "    </tr>\n",
       "    <tr>\n",
       "      <th>std</th>\n",
       "      <td>730.053227</td>\n",
       "      <td>0.433997</td>\n",
       "    </tr>\n",
       "    <tr>\n",
       "      <th>min</th>\n",
       "      <td>0.000000</td>\n",
       "      <td>0.000000</td>\n",
       "    </tr>\n",
       "    <tr>\n",
       "      <th>25%</th>\n",
       "      <td>740.000000</td>\n",
       "      <td>0.000000</td>\n",
       "    </tr>\n",
       "    <tr>\n",
       "      <th>50%</th>\n",
       "      <td>1419.500000</td>\n",
       "      <td>0.000000</td>\n",
       "    </tr>\n",
       "    <tr>\n",
       "      <th>75%</th>\n",
       "      <td>2002.000000</td>\n",
       "      <td>1.000000</td>\n",
       "    </tr>\n",
       "    <tr>\n",
       "      <th>max</th>\n",
       "      <td>2532.000000</td>\n",
       "      <td>1.000000</td>\n",
       "    </tr>\n",
       "  </tbody>\n",
       "</table>\n",
       "</div>"
      ],
      "text/plain": [
       "            Body ID         label\n",
       "count  49570.000000  49570.000000\n",
       "mean    1366.436696      0.251705\n",
       "std      730.053227      0.433997\n",
       "min        0.000000      0.000000\n",
       "25%      740.000000      0.000000\n",
       "50%     1419.500000      0.000000\n",
       "75%     2002.000000      1.000000\n",
       "max     2532.000000      1.000000"
      ]
     },
     "execution_count": 16,
     "metadata": {},
     "output_type": "execute_result"
    }
   ],
   "source": [
    "df.describe()"
   ]
  },
  {
   "cell_type": "code",
   "execution_count": 66,
   "metadata": {},
   "outputs": [
    {
     "data": {
      "text/plain": [
       "0"
      ]
     },
     "execution_count": 66,
     "metadata": {},
     "output_type": "execute_result"
    }
   ],
   "source": [
    "df.duplicated().sum()"
   ]
  },
  {
   "cell_type": "code",
   "execution_count": 67,
   "metadata": {},
   "outputs": [],
   "source": [
    "import seaborn as sns"
   ]
  },
  {
   "cell_type": "code",
   "execution_count": 68,
   "metadata": {},
   "outputs": [
    {
     "data": {
      "text/plain": [
       "label\n",
       "0    37093\n",
       "1    12477\n",
       "Name: count, dtype: int64"
      ]
     },
     "execution_count": 68,
     "metadata": {},
     "output_type": "execute_result"
    }
   ],
   "source": [
    "df['label'].value_counts()"
   ]
  },
  {
   "cell_type": "code",
   "execution_count": 69,
   "metadata": {},
   "outputs": [
    {
     "data": {
      "text/html": [
       "<div>\n",
       "<style scoped>\n",
       "    .dataframe tbody tr th:only-of-type {\n",
       "        vertical-align: middle;\n",
       "    }\n",
       "\n",
       "    .dataframe tbody tr th {\n",
       "        vertical-align: top;\n",
       "    }\n",
       "\n",
       "    .dataframe thead th {\n",
       "        text-align: right;\n",
       "    }\n",
       "</style>\n",
       "<table border=\"1\" class=\"dataframe\">\n",
       "  <thead>\n",
       "    <tr style=\"text-align: right;\">\n",
       "      <th></th>\n",
       "      <th>Headline</th>\n",
       "      <th>Body ID</th>\n",
       "      <th>articleBody</th>\n",
       "      <th>label</th>\n",
       "    </tr>\n",
       "  </thead>\n",
       "  <tbody>\n",
       "    <tr>\n",
       "      <th>0</th>\n",
       "      <td>Hundreds of Palestinians flee floods in Gaza a...</td>\n",
       "      <td>158</td>\n",
       "      <td>Hundreds of Palestinians were evacuated from t...</td>\n",
       "      <td>1</td>\n",
       "    </tr>\n",
       "    <tr>\n",
       "      <th>1</th>\n",
       "      <td>'Nasa Confirms Earth Will Experience 6 Days of...</td>\n",
       "      <td>154</td>\n",
       "      <td>Thousands of people have been duped by a fake ...</td>\n",
       "      <td>1</td>\n",
       "    </tr>\n",
       "    <tr>\n",
       "      <th>2</th>\n",
       "      <td>Banksy 'Arrested &amp; Real Identity Revealed' Is ...</td>\n",
       "      <td>1739</td>\n",
       "      <td>If you’ve seen a story floating around on your...</td>\n",
       "      <td>1</td>\n",
       "    </tr>\n",
       "    <tr>\n",
       "      <th>3</th>\n",
       "      <td>Gateway Pundit</td>\n",
       "      <td>2327</td>\n",
       "      <td>A British rapper whose father is awaiting tria...</td>\n",
       "      <td>1</td>\n",
       "    </tr>\n",
       "    <tr>\n",
       "      <th>4</th>\n",
       "      <td>Woman detained in Lebanon is not al-Baghdadi's...</td>\n",
       "      <td>1468</td>\n",
       "      <td>An Iraqi official denied that a woman detained...</td>\n",
       "      <td>1</td>\n",
       "    </tr>\n",
       "  </tbody>\n",
       "</table>\n",
       "</div>"
      ],
      "text/plain": [
       "                                            Headline  Body ID  \\\n",
       "0  Hundreds of Palestinians flee floods in Gaza a...      158   \n",
       "1  'Nasa Confirms Earth Will Experience 6 Days of...      154   \n",
       "2  Banksy 'Arrested & Real Identity Revealed' Is ...     1739   \n",
       "3                                     Gateway Pundit     2327   \n",
       "4  Woman detained in Lebanon is not al-Baghdadi's...     1468   \n",
       "\n",
       "                                         articleBody  label  \n",
       "0  Hundreds of Palestinians were evacuated from t...      1  \n",
       "1  Thousands of people have been duped by a fake ...      1  \n",
       "2  If you’ve seen a story floating around on your...      1  \n",
       "3  A British rapper whose father is awaiting tria...      1  \n",
       "4  An Iraqi official denied that a woman detained...      1  "
      ]
     },
     "execution_count": 69,
     "metadata": {},
     "output_type": "execute_result"
    }
   ],
   "source": [
    "df.head()"
   ]
  },
  {
   "cell_type": "code",
   "execution_count": 70,
   "metadata": {},
   "outputs": [
    {
     "name": "stdout",
     "output_type": "stream",
     "text": [
      "TensorFlow version: 2.10.0\n"
     ]
    }
   ],
   "source": [
    "import tensorflow as tf\n",
    "print(\"TensorFlow version:\", tf.__version__)"
   ]
  },
  {
   "cell_type": "code",
   "execution_count": 71,
   "metadata": {},
   "outputs": [
    {
     "name": "stdout",
     "output_type": "stream",
     "text": [
      "Num GPUs Available:  1\n"
     ]
    }
   ],
   "source": [
    "print(\"Num GPUs Available: \", len(tf.config.list_physical_devices('GPU')))"
   ]
  },
  {
   "cell_type": "code",
   "execution_count": 72,
   "metadata": {},
   "outputs": [],
   "source": [
    "import pandas as pd\n",
    "import numpy as np\n",
    "import re\n",
    "import matplotlib.pyplot as plt\n",
    "import seaborn as sns\n",
    "from sklearn.model_selection import train_test_split\n",
    "from imblearn.over_sampling import SMOTE\n",
    "from tensorflow.keras.preprocessing.text import Tokenizer\n",
    "from tensorflow.keras.preprocessing.sequence import pad_sequences\n",
    "import gensim"
   ]
  },
  {
   "cell_type": "code",
   "execution_count": 73,
   "metadata": {},
   "outputs": [
    {
     "name": "stdout",
     "output_type": "stream",
     "text": [
      "<class 'pandas.core.frame.DataFrame'>\n",
      "Index: 49570 entries, 0 to 49971\n",
      "Data columns (total 4 columns):\n",
      " #   Column       Non-Null Count  Dtype \n",
      "---  ------       --------------  ----- \n",
      " 0   Headline     49570 non-null  object\n",
      " 1   Body ID      49570 non-null  int64 \n",
      " 2   articleBody  49570 non-null  object\n",
      " 3   label        49570 non-null  int64 \n",
      "dtypes: int64(2), object(2)\n",
      "memory usage: 1.9+ MB\n",
      "None\n"
     ]
    },
    {
     "data": {
      "text/html": [
       "<div>\n",
       "<style scoped>\n",
       "    .dataframe tbody tr th:only-of-type {\n",
       "        vertical-align: middle;\n",
       "    }\n",
       "\n",
       "    .dataframe tbody tr th {\n",
       "        vertical-align: top;\n",
       "    }\n",
       "\n",
       "    .dataframe thead th {\n",
       "        text-align: right;\n",
       "    }\n",
       "</style>\n",
       "<table border=\"1\" class=\"dataframe\">\n",
       "  <thead>\n",
       "    <tr style=\"text-align: right;\">\n",
       "      <th></th>\n",
       "      <th>Headline</th>\n",
       "      <th>Body ID</th>\n",
       "      <th>articleBody</th>\n",
       "      <th>label</th>\n",
       "    </tr>\n",
       "  </thead>\n",
       "  <tbody>\n",
       "    <tr>\n",
       "      <th>0</th>\n",
       "      <td>Hundreds of Palestinians flee floods in Gaza a...</td>\n",
       "      <td>158</td>\n",
       "      <td>Hundreds of Palestinians were evacuated from t...</td>\n",
       "      <td>1</td>\n",
       "    </tr>\n",
       "    <tr>\n",
       "      <th>1</th>\n",
       "      <td>'Nasa Confirms Earth Will Experience 6 Days of...</td>\n",
       "      <td>154</td>\n",
       "      <td>Thousands of people have been duped by a fake ...</td>\n",
       "      <td>1</td>\n",
       "    </tr>\n",
       "    <tr>\n",
       "      <th>2</th>\n",
       "      <td>Banksy 'Arrested &amp; Real Identity Revealed' Is ...</td>\n",
       "      <td>1739</td>\n",
       "      <td>If you’ve seen a story floating around on your...</td>\n",
       "      <td>1</td>\n",
       "    </tr>\n",
       "    <tr>\n",
       "      <th>3</th>\n",
       "      <td>Gateway Pundit</td>\n",
       "      <td>2327</td>\n",
       "      <td>A British rapper whose father is awaiting tria...</td>\n",
       "      <td>1</td>\n",
       "    </tr>\n",
       "    <tr>\n",
       "      <th>4</th>\n",
       "      <td>Woman detained in Lebanon is not al-Baghdadi's...</td>\n",
       "      <td>1468</td>\n",
       "      <td>An Iraqi official denied that a woman detained...</td>\n",
       "      <td>1</td>\n",
       "    </tr>\n",
       "    <tr>\n",
       "      <th>...</th>\n",
       "      <td>...</td>\n",
       "      <td>...</td>\n",
       "      <td>...</td>\n",
       "      <td>...</td>\n",
       "    </tr>\n",
       "    <tr>\n",
       "      <th>49967</th>\n",
       "      <td>Indian 'Rapist' Castrated By Angry Mob Who Hac...</td>\n",
       "      <td>1760</td>\n",
       "      <td>Money makes the world go round, right?\\n\\nLunc...</td>\n",
       "      <td>0</td>\n",
       "    </tr>\n",
       "    <tr>\n",
       "      <th>49968</th>\n",
       "      <td>Canadian Soldier Shot At Ottawa War Memorial: ...</td>\n",
       "      <td>524</td>\n",
       "      <td>Apple would never lower itself to rubbing elbo...</td>\n",
       "      <td>0</td>\n",
       "    </tr>\n",
       "    <tr>\n",
       "      <th>49969</th>\n",
       "      <td>Urgent: The Leader of ISIL 'Abu Bakr al-Baghda...</td>\n",
       "      <td>1681</td>\n",
       "      <td>(CNN) -- Boko Haram laughed off Nigeria's anno...</td>\n",
       "      <td>0</td>\n",
       "    </tr>\n",
       "    <tr>\n",
       "      <th>49970</th>\n",
       "      <td>Brian Williams slams social media for speculat...</td>\n",
       "      <td>2419</td>\n",
       "      <td>Along with unveiling the Apple Watch earlier t...</td>\n",
       "      <td>0</td>\n",
       "    </tr>\n",
       "    <tr>\n",
       "      <th>49971</th>\n",
       "      <td>Shots Heard In Alleged Brown Shooting Recordin...</td>\n",
       "      <td>2044</td>\n",
       "      <td>A married TV actor who met a young woman and k...</td>\n",
       "      <td>0</td>\n",
       "    </tr>\n",
       "  </tbody>\n",
       "</table>\n",
       "<p>49570 rows × 4 columns</p>\n",
       "</div>"
      ],
      "text/plain": [
       "                                                Headline  Body ID  \\\n",
       "0      Hundreds of Palestinians flee floods in Gaza a...      158   \n",
       "1      'Nasa Confirms Earth Will Experience 6 Days of...      154   \n",
       "2      Banksy 'Arrested & Real Identity Revealed' Is ...     1739   \n",
       "3                                         Gateway Pundit     2327   \n",
       "4      Woman detained in Lebanon is not al-Baghdadi's...     1468   \n",
       "...                                                  ...      ...   \n",
       "49967  Indian 'Rapist' Castrated By Angry Mob Who Hac...     1760   \n",
       "49968  Canadian Soldier Shot At Ottawa War Memorial: ...      524   \n",
       "49969  Urgent: The Leader of ISIL 'Abu Bakr al-Baghda...     1681   \n",
       "49970  Brian Williams slams social media for speculat...     2419   \n",
       "49971  Shots Heard In Alleged Brown Shooting Recordin...     2044   \n",
       "\n",
       "                                             articleBody  label  \n",
       "0      Hundreds of Palestinians were evacuated from t...      1  \n",
       "1      Thousands of people have been duped by a fake ...      1  \n",
       "2      If you’ve seen a story floating around on your...      1  \n",
       "3      A British rapper whose father is awaiting tria...      1  \n",
       "4      An Iraqi official denied that a woman detained...      1  \n",
       "...                                                  ...    ...  \n",
       "49967  Money makes the world go round, right?\\n\\nLunc...      0  \n",
       "49968  Apple would never lower itself to rubbing elbo...      0  \n",
       "49969  (CNN) -- Boko Haram laughed off Nigeria's anno...      0  \n",
       "49970  Along with unveiling the Apple Watch earlier t...      0  \n",
       "49971  A married TV actor who met a young woman and k...      0  \n",
       "\n",
       "[49570 rows x 4 columns]"
      ]
     },
     "execution_count": 73,
     "metadata": {},
     "output_type": "execute_result"
    }
   ],
   "source": [
    "# # Concatenate the datasets\n",
    "# data = pd.concat([true_news, fake_news], ignore_index=True)\n",
    "# print(data.info())\n",
    "# data=pd.read_csv('./merged1.csv')\n",
    "data=df\n",
    "print(data.info())\n",
    "data\n"
   ]
  },
  {
   "cell_type": "code",
   "execution_count": 74,
   "metadata": {},
   "outputs": [
    {
     "data": {
      "text/plain": [
       "label\n",
       "0    37093\n",
       "1    12477\n",
       "Name: count, dtype: int64"
      ]
     },
     "execution_count": 74,
     "metadata": {},
     "output_type": "execute_result"
    }
   ],
   "source": [
    "df['label'].value_counts()"
   ]
  },
  {
   "cell_type": "code",
   "execution_count": 75,
   "metadata": {},
   "outputs": [
    {
     "name": "stdout",
     "output_type": "stream",
     "text": [
      "99944\n",
      "99140\n",
      "Vocabulary Length is 64509\n"
     ]
    }
   ],
   "source": [
    "corpus = np.r_[data['Headline'].values,data['articleBody'].values]\n",
    "print(49972*2)\n",
    "print(len(corpus)) # first 49972 contains the Headline and next 49972 contains the articleBody\n",
    "\n",
    "vocabulary = []\n",
    "for sentence in corpus:\n",
    "    vocabulary.extend(sentence.split(' '))\n",
    "\n",
    "vocabulary = list(set(vocabulary))\n",
    "vocab_length = len(vocabulary)\n",
    "print(\"Vocabulary Length is {0}\".format(vocab_length))"
   ]
  },
  {
   "cell_type": "code",
   "execution_count": 76,
   "metadata": {},
   "outputs": [],
   "source": [
    "max_features = 5000\n",
    "MAX_NB_WORDS = 24000\n",
    "EMBEDDING_DIM = 50\n",
    "MAX_SEQUENCE_LENGTH = 64\n"
   ]
  },
  {
   "cell_type": "code",
   "execution_count": 77,
   "metadata": {},
   "outputs": [],
   "source": [
    "import os"
   ]
  },
  {
   "cell_type": "code",
   "execution_count": 78,
   "metadata": {},
   "outputs": [],
   "source": [
    "GLOVE_DIR = \"./glove.6B.50d.txt\"\n",
    "def setup_embedding_index():\n",
    "    embedding_index=dict()\n",
    "    f = open(os.path.join(GLOVE_DIR,\"glove.6B.50d.txt\"),encoding='utf-8')\n",
    "    for line in f:\n",
    "        values = line.split()\n",
    "        word = values[0]\n",
    "        coefs = np.array(values[1:],dtype='float32')\n",
    "        embedding_index[word] = coefs\n",
    "    f.close()\n",
    "    return embedding_index\n",
    "embeddings_index = setup_embedding_index()"
   ]
  },
  {
   "cell_type": "code",
   "execution_count": 79,
   "metadata": {},
   "outputs": [
    {
     "name": "stdout",
     "output_type": "stream",
     "text": [
      "3880\n"
     ]
    }
   ],
   "source": [
    "tokenizer_headline = Tokenizer(num_words=max_features, split=' ')\n",
    "tokenizer_headline.fit_on_texts(data.loc[:,'Headline'].values)\n",
    "vocab_headline_length = len(tokenizer_headline.word_index)+1\n",
    "\n",
    "encoded_docs_headline = tokenizer_headline.texts_to_sequences(data.loc[:,'Headline'])\n",
    "padded_docs_headline = pad_sequences(encoded_docs_headline, maxlen=16, padding='post')\n",
    "\n",
    "print(vocab_headline_length)\n",
    "word_index_headline = tokenizer_headline.word_index\n",
    "\n",
    "NUM_WORDS_HEADLINE = vocab_headline_length"
   ]
  },
  {
   "cell_type": "code",
   "execution_count": 80,
   "metadata": {},
   "outputs": [
    {
     "name": "stdout",
     "output_type": "stream",
     "text": [
      "27428\n",
      "27428\n"
     ]
    }
   ],
   "source": [
    "tokenizer_body = Tokenizer(num_words=max_features, split=' ')\n",
    "tokenizer_body.fit_on_texts(data.loc[:,'articleBody'].values)\n",
    "vocab_body_length = len(tokenizer_body.word_index)+1\n",
    "\n",
    "encoded_docs_body = tokenizer_body.texts_to_sequences(data.loc[:,'articleBody'])\n",
    "padded_docs_body = pad_sequences(encoded_docs_body, maxlen=48, padding='post')\n",
    "\n",
    "print(vocab_body_length)\n",
    "word_index_body = tokenizer_body.word_index\n",
    "\n",
    "NUM_WORDS_BODY = vocab_body_length\n",
    "print(NUM_WORDS_BODY)\n"
   ]
  },
  {
   "cell_type": "code",
   "execution_count": 82,
   "metadata": {},
   "outputs": [
    {
     "name": "stdout",
     "output_type": "stream",
     "text": [
      "50\n"
     ]
    }
   ],
   "source": [
    "embedding_matrix_headline = np.zeros((NUM_WORDS_HEADLINE, EMBEDDING_DIM))\n",
    "\n",
    "for word, i in tokenizer_headline.word_index.items():\n",
    "    embedding_vector = embeddings_index.get(word)\n",
    "    if embedding_vector is not None:\n",
    "        embedding_matrix_headline[i] = embedding_vector\n",
    "dims = len(embedding_matrix_headline[0])\n",
    "\n",
    "print(dims)\n"
   ]
  },
  {
   "cell_type": "code",
   "execution_count": 32,
   "metadata": {},
   "outputs": [
    {
     "name": "stdout",
     "output_type": "stream",
     "text": [
      "50\n"
     ]
    }
   ],
   "source": [
    "embedding_matrix_body = np.zeros((NUM_WORDS_BODY, EMBEDDING_DIM))\n",
    "\n",
    "for word, i in tokenizer_body.word_index.items():\n",
    "    embedding_vector = embeddings_index.get(word)\n",
    "    if embedding_vector is not None:\n",
    "        embedding_matrix_body[i] = embedding_vector\n",
    "dims = len(embedding_matrix_body[0])\n",
    "\n",
    "print(dims)\n"
   ]
  },
  {
   "cell_type": "code",
   "execution_count": 83,
   "metadata": {},
   "outputs": [
    {
     "name": "stdout",
     "output_type": "stream",
     "text": [
      "(49570, 16)\n",
      "(49570, 48)\n"
     ]
    }
   ],
   "source": [
    "print(padded_docs_headline.shape)\n",
    "print(padded_docs_body.shape)\n"
   ]
  },
  {
   "cell_type": "code",
   "execution_count": 84,
   "metadata": {},
   "outputs": [
    {
     "data": {
      "text/plain": [
       "label\n",
       "0    37093\n",
       "1    12477\n",
       "Name: count, dtype: int64"
      ]
     },
     "execution_count": 84,
     "metadata": {},
     "output_type": "execute_result"
    }
   ],
   "source": [
    "df['label'].value_counts()"
   ]
  },
  {
   "cell_type": "code",
   "execution_count": 85,
   "metadata": {},
   "outputs": [],
   "source": [
    "import pandas as pd\n",
    "import numpy as np\n",
    "import os\n",
    "from tensorflow.keras.preprocessing.sequence import pad_sequences\n",
    "from tensorflow.keras.preprocessing.text import Tokenizer\n",
    "from tensorflow.keras.utils import to_categorical,plot_model\n",
    "\n",
    "from tensorflow.keras import Input,Model,Sequential\n",
    "from tensorflow.keras.layers import LSTM,Embedding,Dropout,Activation,Reshape,Dense,GRU,Add,Flatten,concatenate,Bidirectional\n",
    "\n",
    "from tensorflow.keras.preprocessing.text import one_hot\n",
    "from tensorflow.keras.preprocessing.sequence import pad_sequences\n",
    "\n",
    "from tensorflow.keras.utils import to_categorical,plot_model\n",
    "import matplotlib.pyplot as plt\n",
    "from tensorflow.keras.callbacks import ModelCheckpoint\n"
   ]
  },
  {
   "cell_type": "code",
   "execution_count": 35,
   "metadata": {},
   "outputs": [],
   "source": [
    "# input_headline = Input(shape=16,name='input_headline')\n",
    "# embedding_layer_headline = Embedding(input_dim = vocab_headline_length,output_dim = 50,\n",
    "#                                      weights=[embedding_matrix_headline],\n",
    "#                                      input_length = 16,trainable=True)(input_headline)\n",
    "\n",
    "# # lstm_headline = LSTM(units=16)(embedding_layer_headline)\n",
    "\n",
    "# input_body = Input(shape=48,name='input_body')\n",
    "# embedding_layer_body = Embedding(input_dim = vocab_body_length,output_dim = 50,weights = [embedding_matrix_body],\n",
    "#                                  input_length=48,trainable = True)(input_body)\n",
    "# lstm_body = LSTM(units=48)(embedding_layer_body)\n",
    "\n",
    "# addition_layer = concatenate([embedding_layer_headline,embedding_layer_body],axis=1)\n",
    "\n",
    "# # addition_layer = concatenate([lstm_headline,lstm_body],axis=1)\n",
    "# lstm = LSTM(units=64,)(addition_layer)\n",
    "# drop = Dropout(0.25)(lstm)\n",
    "# # dense = Dense(64,activation='relu')(drop)\n",
    "# # flatten = Flatten()(addition_layer)\n",
    "\n",
    "# output = Dense(2,activation='sigmoid')(drop)\n",
    "\n",
    "# model = Model(inputs=[input_headline,input_body],outputs=output)\n",
    "# # from keras.optimizers import SGD\n",
    "# # sgd = SGD(lr=0.0001, decay=1e-6, momentum=0.9, nesterov=True)\n",
    "\n",
    "# # model.compile(loss = \"categorical_crossentropy\", optimizer = sgd,metrics = ['accuracy'])\n",
    "\n",
    "# model.compile(optimizer = 'adam',loss ='categorical_crossentropy',metrics = ['accuracy'])\n"
   ]
  },
  {
   "cell_type": "code",
   "execution_count": 86,
   "metadata": {},
   "outputs": [
    {
     "name": "stdout",
     "output_type": "stream",
     "text": [
      "Model: \"model_1\"\n",
      "__________________________________________________________________________________________________\n",
      " Layer (type)                   Output Shape         Param #     Connected to                     \n",
      "==================================================================================================\n",
      " input_headline (InputLayer)    [(None, 16)]         0           []                               \n",
      "                                                                                                  \n",
      " input_body (InputLayer)        [(None, 48)]         0           []                               \n",
      "                                                                                                  \n",
      " embedding_2 (Embedding)        (None, 16, 50)       194000      ['input_headline[0][0]']         \n",
      "                                                                                                  \n",
      " embedding_3 (Embedding)        (None, 48, 50)       1371400     ['input_body[0][0]']             \n",
      "                                                                                                  \n",
      " conv1d_2 (Conv1D)              (None, 12, 128)      32128       ['embedding_2[0][0]']            \n",
      "                                                                                                  \n",
      " conv1d_3 (Conv1D)              (None, 44, 128)      32128       ['embedding_3[0][0]']            \n",
      "                                                                                                  \n",
      " max_pooling1d_2 (MaxPooling1D)  (None, 6, 128)      0           ['conv1d_2[0][0]']               \n",
      "                                                                                                  \n",
      " max_pooling1d_3 (MaxPooling1D)  (None, 22, 128)     0           ['conv1d_3[0][0]']               \n",
      "                                                                                                  \n",
      " bidirectional_2 (Bidirectional  (None, 128)         98816       ['max_pooling1d_2[0][0]']        \n",
      " )                                                                                                \n",
      "                                                                                                  \n",
      " bidirectional_3 (Bidirectional  (None, 128)         98816       ['max_pooling1d_3[0][0]']        \n",
      " )                                                                                                \n",
      "                                                                                                  \n",
      " dropout_2 (Dropout)            (None, 128)          0           ['bidirectional_2[0][0]']        \n",
      "                                                                                                  \n",
      " dropout_3 (Dropout)            (None, 128)          0           ['bidirectional_3[0][0]']        \n",
      "                                                                                                  \n",
      " concatenate_1 (Concatenate)    (None, 256)          0           ['dropout_2[0][0]',              \n",
      "                                                                  'dropout_3[0][0]']              \n",
      "                                                                                                  \n",
      " dense_2 (Dense)                (None, 64)           16448       ['concatenate_1[0][0]']          \n",
      "                                                                                                  \n",
      " dense_3 (Dense)                (None, 2)            130         ['dense_2[0][0]']                \n",
      "                                                                                                  \n",
      "==================================================================================================\n",
      "Total params: 1,843,866\n",
      "Trainable params: 1,843,866\n",
      "Non-trainable params: 0\n",
      "__________________________________________________________________________________________________\n"
     ]
    }
   ],
   "source": [
    "from tensorflow.keras.models import Model\n",
    "from tensorflow.keras.layers import Input, Embedding, Conv1D, MaxPooling1D, Bidirectional, LSTM, Dropout, Dense, concatenate\n",
    "\n",
    "# Input Layer for Headline\n",
    "input_headline = Input(shape=16, name='input_headline')\n",
    "embedding_layer_headline = Embedding(input_dim=vocab_headline_length, \n",
    "                                     output_dim=50, \n",
    "                                     weights=[embedding_matrix_headline], \n",
    "                                     input_length=16, \n",
    "                                     trainable=True)(input_headline)\n",
    "\n",
    "# CNN Layer for Headline (extracts local features)\n",
    "cnn_headline = Conv1D(filters=128, kernel_size=5, activation='relu')(embedding_layer_headline)\n",
    "cnn_headline = MaxPooling1D(pool_size=2)(cnn_headline)\n",
    "\n",
    "# BiLSTM Layer for Headline\n",
    "bilstm_headline = Bidirectional(LSTM(units=64, return_sequences=False))(cnn_headline)\n",
    "drop_headline = Dropout(0.25)(bilstm_headline)\n",
    "\n",
    "# Input Layer for Body\n",
    "input_body = Input(shape=48, name='input_body')\n",
    "embedding_layer_body = Embedding(input_dim=vocab_body_length, \n",
    "                                 output_dim=50, \n",
    "                                 weights=[embedding_matrix_body], \n",
    "                                 input_length=48, \n",
    "                                 trainable=True)(input_body)\n",
    "\n",
    "# CNN Layer for Body (extracts local features)\n",
    "cnn_body = Conv1D(filters=128, kernel_size=5, activation='relu')(embedding_layer_body)\n",
    "cnn_body = MaxPooling1D(pool_size=2)(cnn_body)\n",
    "\n",
    "# BiLSTM Layer for Body\n",
    "bilstm_body = Bidirectional(LSTM(units=64, return_sequences=False))(cnn_body)\n",
    "drop_body = Dropout(0.25)(bilstm_body)\n",
    "\n",
    "# Concatenate Headline and Body features\n",
    "addition_layer = concatenate([drop_headline, drop_body], axis=1)\n",
    "\n",
    "# Fully connected layer after concatenation\n",
    "dense = Dense(64, activation='relu')(addition_layer)\n",
    "\n",
    "# Output Layer\n",
    "output = Dense(2, activation='sigmoid')(dense)\n",
    "\n",
    "# Define the model\n",
    "model = Model(inputs=[input_headline, input_body], outputs=output)\n",
    "\n",
    "# Compile the model\n",
    "model.compile(optimizer='adam', loss='categorical_crossentropy', metrics=['accuracy'])\n",
    "\n",
    "# Model summary\n",
    "model.summary()\n"
   ]
  },
  {
   "cell_type": "code",
   "execution_count": 37,
   "metadata": {},
   "outputs": [],
   "source": [
    "# model.summary()\n"
   ]
  },
  {
   "cell_type": "code",
   "execution_count": 38,
   "metadata": {},
   "outputs": [
    {
     "name": "stdout",
     "output_type": "stream",
     "text": [
      "Requirement already satisfied: pydot in e:\\project\\fnd_new\\myenv\\lib\\site-packages (3.0.2)\n",
      "Requirement already satisfied: pyparsing>=3.0.9 in e:\\project\\fnd_new\\myenv\\lib\\site-packages (from pydot) (3.1.2)\n",
      "Note: you may need to restart the kernel to use updated packages.\n"
     ]
    },
    {
     "name": "stderr",
     "output_type": "stream",
     "text": [
      "\n",
      "[notice] A new release of pip is available: 23.0.1 -> 24.3.1\n",
      "[notice] To update, run: python.exe -m pip install --upgrade pip\n"
     ]
    },
    {
     "name": "stdout",
     "output_type": "stream",
     "text": [
      "Requirement already satisfied: graphviz in e:\\project\\fnd_new\\myenv\\lib\\site-packages (0.20.3)\n",
      "Note: you may need to restart the kernel to use updated packages.\n"
     ]
    },
    {
     "name": "stderr",
     "output_type": "stream",
     "text": [
      "\n",
      "[notice] A new release of pip is available: 23.0.1 -> 24.3.1\n",
      "[notice] To update, run: python.exe -m pip install --upgrade pip\n"
     ]
    }
   ],
   "source": [
    "%pip install pydot\n",
    "%pip install graphviz"
   ]
  },
  {
   "cell_type": "code",
   "execution_count": 87,
   "metadata": {},
   "outputs": [
    {
     "data": {
      "image/png": "[encoded data removed]",
      "text/plain": [
       "<IPython.core.display.Image object>"
      ]
     },
     "execution_count": 87,
     "metadata": {},
     "output_type": "execute_result"
    }
   ],
   "source": [
    "plot_model(model, to_file='model_glove_lstm.png', show_shapes=True, show_layer_names=True)"
   ]
  },
  {
   "cell_type": "code",
   "execution_count": 93,
   "metadata": {},
   "outputs": [
    {
     "name": "stdout",
     "output_type": "stream",
     "text": [
      "Unique values in y_train: [0 1]\n",
      "Unique values in y_test: [0 1]\n",
      "Unique values in y_test after stratified split: [0 1]\n",
      "Unique values in y_train_resampled after SMOTE: [0 1]\n"
     ]
    }
   ],
   "source": [
    "from sklearn.model_selection import train_test_split\n",
    "from tensorflow.keras.utils import to_categorical\n",
    "from imblearn.over_sampling import SMOTE\n",
    "\n",
    "# Separate features and labels\n",
    "X_headline = padded_docs_headline\n",
    "X_body = padded_docs_body\n",
    "y = data['label'].values\n",
    "\n",
    "# Perform a stratified train-test split to ensure both classes are in each set\n",
    "X_headline_train, X_headline_test, X_body_train, X_body_test, y_train, y_test = train_test_split(\n",
    "    X_headline, X_body, y, test_size=0.3, stratify=y, random_state=42\n",
    ")\n",
    "\n",
    "# Check class distribution in y_train and y_test to confirm balance\n",
    "print(\"Unique values in y_train:\", np.unique(y_train))\n",
    "print(\"Unique values in y_test:\", np.unique(y_test))\n",
    "\n",
    "# Apply SMOTE only to the training labels\n",
    "smote = SMOTE(sampling_strategy='minority', random_state=42)\n",
    "X_train_combined = np.hstack([X_headline_train, X_body_train])\n",
    "X_train_resampled, y_train_resampled = smote.fit_resample(X_train_combined, y_train)\n",
    "\n",
    "# Reshape SMOTE data back into separate headline and body parts\n",
    "X_headline_train_resampled = X_train_resampled[:, :X_headline_train.shape[1]]\n",
    "X_body_train_resampled = X_train_resampled[:, X_headline_train.shape[1]:]\n",
    "\n",
    "# Convert labels to categorical format for training and testing sets\n",
    "y_train_resampled = to_categorical(y_train_resampled)\n",
    "y_test = to_categorical(y_test)\n",
    "\n",
    "# Verify the setup\n",
    "print(\"Unique values in y_test after stratified split:\", np.unique(np.argmax(y_test, axis=1)))\n",
    "print(\"Unique values in y_train_resampled after SMOTE:\", np.unique(np.argmax(y_train_resampled, axis=1)))\n"
   ]
  },
  {
   "cell_type": "code",
   "execution_count": 94,
   "metadata": {},
   "outputs": [],
   "source": [
    "# MODELS_DIR = os.path.join(\"/home/abhinav/fake_news_challenge/model/glove_lstm\")\n",
    "filepath = os.path.join(os.getcwd(),\"{epoch:02d}-{val_accuracy:.2f}.hdf5\")\n",
    "checkpoint = ModelCheckpoint(filepath, monitor='val_accuracy', verbose=1, save_best_only=True, mode='max')"
   ]
  },
  {
   "cell_type": "code",
   "execution_count": 95,
   "metadata": {},
   "outputs": [
    {
     "name": "stdout",
     "output_type": "stream",
     "text": [
      "Epoch 1/40\n",
      "1623/1623 [==============================] - ETA: 0s - loss: 0.0916 - accuracy: 0.9670\n",
      "Epoch 1: val_accuracy improved from -inf to 0.95797, saving model to e:\\Project\\FND_new\\startover\\01-0.96.hdf5\n",
      "1623/1623 [==============================] - 41s 25ms/step - loss: 0.0916 - accuracy: 0.9670 - val_loss: 0.1000 - val_accuracy: 0.9580\n",
      "Epoch 2/40\n",
      "1623/1623 [==============================] - ETA: 0s - loss: 0.0624 - accuracy: 0.9754\n",
      "Epoch 2: val_accuracy improved from 0.95797 to 0.96705, saving model to e:\\Project\\FND_new\\startover\\02-0.97.hdf5\n",
      "1623/1623 [==============================] - 40s 25ms/step - loss: 0.0624 - accuracy: 0.9754 - val_loss: 0.0808 - val_accuracy: 0.9670\n",
      "Epoch 3/40\n",
      "1622/1623 [============================>.] - ETA: 0s - loss: 0.0562 - accuracy: 0.9778\n",
      "Epoch 3: val_accuracy improved from 0.96705 to 0.98030, saving model to e:\\Project\\FND_new\\startover\\03-0.98.hdf5\n",
      "1623/1623 [==============================] - 60s 37ms/step - loss: 0.0562 - accuracy: 0.9778 - val_loss: 0.0546 - val_accuracy: 0.9803\n",
      "Epoch 4/40\n",
      "1623/1623 [==============================] - ETA: 0s - loss: 0.0506 - accuracy: 0.9806\n",
      "Epoch 4: val_accuracy did not improve from 0.98030\n",
      "1623/1623 [==============================] - 49s 30ms/step - loss: 0.0506 - accuracy: 0.9806 - val_loss: 0.0704 - val_accuracy: 0.9716\n",
      "Epoch 5/40\n",
      "1623/1623 [==============================] - ETA: 0s - loss: 0.0454 - accuracy: 0.9829\n",
      "Epoch 5: val_accuracy did not improve from 0.98030\n",
      "1623/1623 [==============================] - 52s 32ms/step - loss: 0.0454 - accuracy: 0.9829 - val_loss: 0.0681 - val_accuracy: 0.9757\n",
      "Epoch 6/40\n",
      "1621/1623 [============================>.] - ETA: 0s - loss: 0.0396 - accuracy: 0.9847\n",
      "Epoch 6: val_accuracy did not improve from 0.98030\n",
      "1623/1623 [==============================] - 39s 24ms/step - loss: 0.0396 - accuracy: 0.9847 - val_loss: 0.0606 - val_accuracy: 0.9775\n",
      "Epoch 7/40\n",
      "1623/1623 [==============================] - ETA: 0s - loss: 0.0385 - accuracy: 0.9857\n",
      "Epoch 7: val_accuracy did not improve from 0.98030\n",
      "1623/1623 [==============================] - 46s 29ms/step - loss: 0.0385 - accuracy: 0.9857 - val_loss: 0.0613 - val_accuracy: 0.9775\n",
      "Epoch 8/40\n",
      "1622/1623 [============================>.] - ETA: 0s - loss: 0.0336 - accuracy: 0.9876\n",
      "Epoch 8: val_accuracy did not improve from 0.98030\n",
      "1623/1623 [==============================] - 60s 37ms/step - loss: 0.0336 - accuracy: 0.9876 - val_loss: 0.0583 - val_accuracy: 0.9794\n",
      "Epoch 9/40\n",
      "1622/1623 [============================>.] - ETA: 0s - loss: 0.0336 - accuracy: 0.9877\n",
      "Epoch 9: val_accuracy improved from 0.98030 to 0.98211, saving model to e:\\Project\\FND_new\\startover\\09-0.98.hdf5\n",
      "1623/1623 [==============================] - 62s 38ms/step - loss: 0.0336 - accuracy: 0.9877 - val_loss: 0.0502 - val_accuracy: 0.9821\n",
      "Epoch 10/40\n",
      "1621/1623 [============================>.] - ETA: 0s - loss: 0.0303 - accuracy: 0.9888\n",
      "Epoch 10: val_accuracy did not improve from 0.98211\n",
      "1623/1623 [==============================] - 39s 24ms/step - loss: 0.0302 - accuracy: 0.9888 - val_loss: 0.0585 - val_accuracy: 0.9796\n",
      "Epoch 11/40\n",
      "1622/1623 [============================>.] - ETA: 0s - loss: 0.0280 - accuracy: 0.9897\n",
      "Epoch 11: val_accuracy improved from 0.98211 to 0.98386, saving model to e:\\Project\\FND_new\\startover\\11-0.98.hdf5\n",
      "1623/1623 [==============================] - 71s 44ms/step - loss: 0.0280 - accuracy: 0.9897 - val_loss: 0.0506 - val_accuracy: 0.9839\n",
      "Epoch 12/40\n",
      "1623/1623 [==============================] - ETA: 0s - loss: 0.0266 - accuracy: 0.9902\n",
      "Epoch 12: val_accuracy did not improve from 0.98386\n",
      "1623/1623 [==============================] - 79s 49ms/step - loss: 0.0266 - accuracy: 0.9902 - val_loss: 0.0596 - val_accuracy: 0.9792\n",
      "Epoch 13/40\n",
      "1623/1623 [==============================] - ETA: 0s - loss: 0.0286 - accuracy: 0.9892\n",
      "Epoch 13: val_accuracy improved from 0.98386 to 0.98561, saving model to e:\\Project\\FND_new\\startover\\13-0.99.hdf5\n",
      "1623/1623 [==============================] - 74s 46ms/step - loss: 0.0286 - accuracy: 0.9892 - val_loss: 0.0412 - val_accuracy: 0.9856\n",
      "Epoch 14/40\n",
      "1623/1623 [==============================] - ETA: 0s - loss: 0.0253 - accuracy: 0.9909\n",
      "Epoch 14: val_accuracy did not improve from 0.98561\n",
      "1623/1623 [==============================] - 67s 41ms/step - loss: 0.0253 - accuracy: 0.9909 - val_loss: 0.0515 - val_accuracy: 0.9841\n",
      "Epoch 15/40\n",
      "1623/1623 [==============================] - ETA: 0s - loss: 0.0228 - accuracy: 0.9916\n",
      "Epoch 15: val_accuracy improved from 0.98561 to 0.98729, saving model to e:\\Project\\FND_new\\startover\\15-0.99.hdf5\n",
      "1623/1623 [==============================] - 71s 44ms/step - loss: 0.0228 - accuracy: 0.9916 - val_loss: 0.0406 - val_accuracy: 0.9873\n",
      "Epoch 16/40\n",
      "1621/1623 [============================>.] - ETA: 0s - loss: 0.0207 - accuracy: 0.9919\n",
      "Epoch 16: val_accuracy did not improve from 0.98729\n",
      "1623/1623 [==============================] - 70s 43ms/step - loss: 0.0207 - accuracy: 0.9919 - val_loss: 0.0567 - val_accuracy: 0.9838\n",
      "Epoch 17/40\n",
      "1623/1623 [==============================] - ETA: 0s - loss: 0.0228 - accuracy: 0.9919\n",
      "Epoch 17: val_accuracy did not improve from 0.98729\n",
      "1623/1623 [==============================] - 39s 24ms/step - loss: 0.0228 - accuracy: 0.9919 - val_loss: 0.0515 - val_accuracy: 0.9854\n",
      "Epoch 18/40\n",
      "1622/1623 [============================>.] - ETA: 0s - loss: 0.0194 - accuracy: 0.9926\n",
      "Epoch 18: val_accuracy did not improve from 0.98729\n",
      "1623/1623 [==============================] - 40s 25ms/step - loss: 0.0194 - accuracy: 0.9926 - val_loss: 0.0553 - val_accuracy: 0.9849\n",
      "Epoch 19/40\n",
      "1621/1623 [============================>.] - ETA: 0s - loss: 0.0190 - accuracy: 0.9931\n",
      "Epoch 19: val_accuracy improved from 0.98729 to 0.98864, saving model to e:\\Project\\FND_new\\startover\\19-0.99.hdf5\n",
      "1623/1623 [==============================] - 40s 24ms/step - loss: 0.0190 - accuracy: 0.9931 - val_loss: 0.0424 - val_accuracy: 0.9886\n",
      "Epoch 20/40\n",
      "1622/1623 [============================>.] - ETA: 0s - loss: 0.0180 - accuracy: 0.9933\n",
      "Epoch 20: val_accuracy did not improve from 0.98864\n",
      "1623/1623 [==============================] - 41s 25ms/step - loss: 0.0180 - accuracy: 0.9933 - val_loss: 0.0453 - val_accuracy: 0.9872\n",
      "Epoch 21/40\n",
      "1623/1623 [==============================] - ETA: 0s - loss: 0.0185 - accuracy: 0.9931\n",
      "Epoch 21: val_accuracy did not improve from 0.98864\n",
      "1623/1623 [==============================] - 41s 25ms/step - loss: 0.0185 - accuracy: 0.9931 - val_loss: 0.0535 - val_accuracy: 0.9861\n",
      "Epoch 22/40\n",
      "1621/1623 [============================>.] - ETA: 0s - loss: 0.0180 - accuracy: 0.9936\n",
      "Epoch 22: val_accuracy did not improve from 0.98864\n",
      "1623/1623 [==============================] - 42s 26ms/step - loss: 0.0180 - accuracy: 0.9936 - val_loss: 0.0509 - val_accuracy: 0.9870\n",
      "Epoch 23/40\n",
      "1622/1623 [============================>.] - ETA: 0s - loss: 0.0168 - accuracy: 0.9943\n",
      "Epoch 23: val_accuracy did not improve from 0.98864\n",
      "1623/1623 [==============================] - 47s 29ms/step - loss: 0.0168 - accuracy: 0.9943 - val_loss: 0.0473 - val_accuracy: 0.9870\n",
      "Epoch 24/40\n",
      "1621/1623 [============================>.] - ETA: 0s - loss: 0.0171 - accuracy: 0.9942\n",
      "Epoch 24: val_accuracy did not improve from 0.98864\n",
      "1623/1623 [==============================] - 39s 24ms/step - loss: 0.0171 - accuracy: 0.9942 - val_loss: 0.0451 - val_accuracy: 0.9884\n",
      "Epoch 25/40\n",
      "1623/1623 [==============================] - ETA: 0s - loss: 0.0150 - accuracy: 0.9944\n",
      "Epoch 25: val_accuracy improved from 0.98864 to 0.98890, saving model to e:\\Project\\FND_new\\startover\\25-0.99.hdf5\n",
      "1623/1623 [==============================] - 40s 24ms/step - loss: 0.0150 - accuracy: 0.9944 - val_loss: 0.0421 - val_accuracy: 0.9889\n",
      "Epoch 26/40\n",
      "1620/1623 [============================>.] - ETA: 0s - loss: 0.0140 - accuracy: 0.9950\n",
      "Epoch 26: val_accuracy improved from 0.98890 to 0.99018, saving model to e:\\Project\\FND_new\\startover\\26-0.99.hdf5\n",
      "1623/1623 [==============================] - 30s 19ms/step - loss: 0.0141 - accuracy: 0.9949 - val_loss: 0.0372 - val_accuracy: 0.9902\n",
      "Epoch 27/40\n",
      "1622/1623 [============================>.] - ETA: 0s - loss: 0.0153 - accuracy: 0.9949\n",
      "Epoch 27: val_accuracy did not improve from 0.99018\n",
      "1623/1623 [==============================] - 27s 17ms/step - loss: 0.0153 - accuracy: 0.9949 - val_loss: 0.0616 - val_accuracy: 0.9850\n",
      "Epoch 28/40\n",
      "1621/1623 [============================>.] - ETA: 0s - loss: 0.0139 - accuracy: 0.9952\n",
      "Epoch 28: val_accuracy did not improve from 0.99018\n",
      "1623/1623 [==============================] - 30s 18ms/step - loss: 0.0139 - accuracy: 0.9952 - val_loss: 0.0529 - val_accuracy: 0.9881\n",
      "Epoch 29/40\n",
      "1622/1623 [============================>.] - ETA: 0s - loss: 0.0116 - accuracy: 0.9957\n",
      "Epoch 29: val_accuracy did not improve from 0.99018\n",
      "1623/1623 [==============================] - 34s 21ms/step - loss: 0.0116 - accuracy: 0.9957 - val_loss: 0.0503 - val_accuracy: 0.9891\n",
      "Epoch 30/40\n",
      "1623/1623 [==============================] - ETA: 0s - loss: 0.0146 - accuracy: 0.9952\n",
      "Epoch 30: val_accuracy did not improve from 0.99018\n",
      "1623/1623 [==============================] - 44s 27ms/step - loss: 0.0146 - accuracy: 0.9952 - val_loss: 0.0502 - val_accuracy: 0.9886\n",
      "Epoch 31/40\n",
      "1621/1623 [============================>.] - ETA: 0s - loss: 0.0123 - accuracy: 0.9956\n",
      "Epoch 31: val_accuracy did not improve from 0.99018\n",
      "1623/1623 [==============================] - 45s 28ms/step - loss: 0.0124 - accuracy: 0.9956 - val_loss: 0.0511 - val_accuracy: 0.9884\n",
      "Epoch 32/40\n",
      "1622/1623 [============================>.] - ETA: 0s - loss: 0.0133 - accuracy: 0.9954\n",
      "Epoch 32: val_accuracy did not improve from 0.99018\n",
      "1623/1623 [==============================] - 48s 29ms/step - loss: 0.0133 - accuracy: 0.9954 - val_loss: 0.0437 - val_accuracy: 0.9898\n",
      "Epoch 33/40\n",
      "1622/1623 [============================>.] - ETA: 0s - loss: 0.0125 - accuracy: 0.9956\n",
      "Epoch 33: val_accuracy did not improve from 0.99018\n",
      "1623/1623 [==============================] - 42s 26ms/step - loss: 0.0125 - accuracy: 0.9956 - val_loss: 0.1007 - val_accuracy: 0.9822\n",
      "Epoch 34/40\n",
      "1622/1623 [============================>.] - ETA: 0s - loss: 0.0120 - accuracy: 0.9958\n",
      "Epoch 34: val_accuracy improved from 0.99018 to 0.99133, saving model to e:\\Project\\FND_new\\startover\\34-0.99.hdf5\n",
      "1623/1623 [==============================] - 32s 19ms/step - loss: 0.0120 - accuracy: 0.9958 - val_loss: 0.0414 - val_accuracy: 0.9913\n",
      "Epoch 35/40\n",
      "1621/1623 [============================>.] - ETA: 0s - loss: 0.0129 - accuracy: 0.9956\n",
      "Epoch 35: val_accuracy did not improve from 0.99133\n",
      "1623/1623 [==============================] - 29s 18ms/step - loss: 0.0129 - accuracy: 0.9956 - val_loss: 0.0515 - val_accuracy: 0.9882\n",
      "Epoch 36/40\n",
      "1623/1623 [==============================] - ETA: 0s - loss: 0.0127 - accuracy: 0.9962\n",
      "Epoch 36: val_accuracy did not improve from 0.99133\n",
      "1623/1623 [==============================] - 28s 17ms/step - loss: 0.0127 - accuracy: 0.9962 - val_loss: 0.0496 - val_accuracy: 0.9876\n",
      "Epoch 37/40\n",
      "1622/1623 [============================>.] - ETA: 0s - loss: 0.0107 - accuracy: 0.9961\n",
      "Epoch 37: val_accuracy did not improve from 0.99133\n",
      "1623/1623 [==============================] - 28s 18ms/step - loss: 0.0108 - accuracy: 0.9961 - val_loss: 0.0445 - val_accuracy: 0.9903\n",
      "Epoch 38/40\n",
      "1623/1623 [==============================] - ETA: 0s - loss: 0.0104 - accuracy: 0.9965\n",
      "Epoch 38: val_accuracy did not improve from 0.99133\n",
      "1623/1623 [==============================] - 28s 17ms/step - loss: 0.0104 - accuracy: 0.9965 - val_loss: 0.0512 - val_accuracy: 0.9886\n",
      "Epoch 39/40\n",
      "1621/1623 [============================>.] - ETA: 0s - loss: 0.0114 - accuracy: 0.9960\n",
      "Epoch 39: val_accuracy did not improve from 0.99133\n",
      "1623/1623 [==============================] - 29s 18ms/step - loss: 0.0114 - accuracy: 0.9961 - val_loss: 0.0470 - val_accuracy: 0.9896\n",
      "Epoch 40/40\n",
      "1621/1623 [============================>.] - ETA: 0s - loss: 0.0098 - accuracy: 0.9966\n",
      "Epoch 40: val_accuracy did not improve from 0.99133\n",
      "1623/1623 [==============================] - 35s 21ms/step - loss: 0.0098 - accuracy: 0.9966 - val_loss: 0.0549 - val_accuracy: 0.9886\n"
     ]
    }
   ],
   "source": [
    "# # Concatenate headline and body data for SMOTE application\n",
    "# X_train = np.concatenate([padded_docs_headline_train, padded_docs_body_train], axis=1)  # Combine headline and body features\n",
    "# y_train = np.argmax(labels_train, axis=1)  # Convert one-hot encoded labels to integers\n",
    "\n",
    "# # Apply SMOTE\n",
    "# smote = SMOTE(random_state=42)\n",
    "# X_train_resampled, y_train_resampled = smote.fit_resample(X_train, y_train)\n",
    "\n",
    "# # Convert the resampled labels back to one-hot encoding\n",
    "# y_train_resampled = to_categorical(y_train_resampled, num_classes=2)\n",
    "\n",
    "# # Split the resampled data back into headline and body features\n",
    "# padded_docs_headline_train_resampled = X_train_resampled[:, :16]  # First 16 columns for headline\n",
    "# padded_docs_body_train_resampled = X_train_resampled[:, 16:]  # The remaining columns for body\n",
    "\n",
    "# Continue with your model training using the resampled data\n",
    "# Make sure padded_docs_headline_train_smote, padded_docs_body_train_smote, and labels_train_smote\n",
    "# are defined and correctly processed as shown in the previous response\n",
    "\n",
    "model_history = model.fit(\n",
    "    [X_headline_train_resampled, X_body_train_resampled],  # Using SMOTE-resampled headline and body inputs\n",
    "    y_train_resampled,  # Using the SMOTE-resampled labels\n",
    "    epochs=40,\n",
    "    shuffle=True,\n",
    "    verbose=1,\n",
    "    validation_data=([X_headline_test, X_body_test], y_test),  # Using original test set\n",
    "    callbacks=[checkpoint]\n",
    ")\n"
   ]
  },
  {
   "cell_type": "code",
   "execution_count": 96,
   "metadata": {},
   "outputs": [
    {
     "name": "stdout",
     "output_type": "stream",
     "text": [
      "Class distribution on train data after SMOTE:\n",
      "{0: 25965, 1: 25965}\n",
      "Class distribution in test data:\n",
      "{0: 11128, 1: 3743}\n"
     ]
    }
   ],
   "source": [
    "# Check the class distribution in the resampled training data\n",
    "unique, counts = np.unique(np.argmax(y_train_resampled, axis=1), return_counts=True)\n",
    "class_distribution = dict(zip(unique, counts))\n",
    "\n",
    "print(\"Class distribution on train data after SMOTE:\")\n",
    "print(class_distribution)\n",
    "\n",
    "# Check the class distribution in the test labels\n",
    "unique_test, counts_test = np.unique(np.argmax(y_test, axis=1), return_counts=True)\n",
    "class_distribution_test = dict(zip(unique_test, counts_test))\n",
    "\n",
    "print(\"Class distribution in test data:\")\n",
    "print(class_distribution_test)\n"
   ]
  },
  {
   "cell_type": "code",
   "execution_count": 97,
   "metadata": {},
   "outputs": [
    {
     "data": {
      "image/png": "[encoded data removed]",
      "text/plain": [
       "<Figure size 1200x1200 with 2 Axes>"
      ]
     },
     "metadata": {},
     "output_type": "display_data"
    }
   ],
   "source": [
    "fig, (ax1, ax2) = plt.subplots(2, 1, figsize=(12, 12))\n",
    "ax1.plot(model_history.history['loss'], color='b', label=\"Training loss\")\n",
    "ax1.plot(model_history.history['val_loss'], color='r', label=\"validation loss\")\n",
    "ax1.set_xticks(np.arange(1, 40, 1))\n",
    "ax1.set_yticks(np.arange(0, 1, 0.1))\n",
    "\n",
    "ax2.plot(model_history.history['accuracy'], color='b', label=\"Training accuracy\")\n",
    "ax2.plot(model_history.history['val_accuracy'], color='r',label=\"Validation accuracy\")\n",
    "ax2.set_xticks(np.arange(1, 40, 1))\n",
    "\n",
    "legend = plt.legend(loc='best', shadow=True)\n",
    "plt.tight_layout()\n",
    "plt.show()"
   ]
  },
  {
   "cell_type": "code",
   "execution_count": 98,
   "metadata": {},
   "outputs": [
    {
     "name": "stdout",
     "output_type": "stream",
     "text": [
      "Test Accuracy: 96.36%\n",
      "465/465 [==============================] - 3s 5ms/step\n",
      "\n",
      "Classification Report:\n",
      "\n",
      "              precision    recall  f1-score   support\n",
      "\n",
      "           0       0.98      0.97      0.98     11128\n",
      "           1       0.91      0.95      0.93      3743\n",
      "\n",
      "    accuracy                           0.96     14871\n",
      "   macro avg       0.95      0.96      0.95     14871\n",
      "weighted avg       0.96      0.96      0.96     14871\n",
      "\n"
     ]
    }
   ],
   "source": [
    "from sklearn.metrics import classification_report\n",
    "\n",
    "\n",
    "# Evaluate on the test set\n",
    "test_loss, test_accuracy = model.evaluate([X_headline_test, X_body_test], y_test, verbose=0)\n",
    "\n",
    "# Print test accuracy\n",
    "print(f\"Test Accuracy: {test_accuracy * 100:.2f}%\")\n",
    "\n",
    "# Predict the test labels\n",
    "predictions = model.predict([X_headline_test, X_body_test])\n",
    "\n",
    "# Convert predictions to the class labels (as categorical values)\n",
    "predictions = np.argmax(predictions, axis=1)\n",
    "true_labels = np.argmax(y_test, axis=1)\n",
    "\n",
    "# Print classification report\n",
    "print(\"\\nClassification Report:\\n\")\n",
    "print(classification_report(true_labels, predictions))\n"
   ]
  },
  {
   "cell_type": "code",
   "execution_count": null,
   "metadata": {},
   "outputs": [
    {
     "name": "stdout",
     "output_type": "stream",
     "text": [
      "Test Loss: 0.21829760074615479\n",
      "Test Accuracy: 0.9629480242729187\n",
      "465/465 [==============================] - 5s 10ms/step\n",
      "Confusion Matrix:\n",
      "[[14320   551]\n",
      " [    0     0]]\n",
      "Classification Report:\n",
      "              precision    recall  f1-score   support\n",
      "\n",
      "           0       1.00      0.96      0.98     14871\n",
      "           1       0.00      0.00      0.00         0\n",
      "\n",
      "    accuracy                           0.96     14871\n",
      "   macro avg       0.50      0.48      0.49     14871\n",
      "weighted avg       1.00      0.96      0.98     14871\n",
      "\n"
     ]
    },
    {
     "name": "stderr",
     "output_type": "stream",
     "text": [
      "e:\\Project\\FND_new\\myenv\\lib\\site-packages\\sklearn\\metrics\\_classification.py:1531: UndefinedMetricWarning: Recall is ill-defined and being set to 0.0 in labels with no true samples. Use `zero_division` parameter to control this behavior.\n",
      "  _warn_prf(average, modifier, f\"{metric.capitalize()} is\", len(result))\n",
      "e:\\Project\\FND_new\\myenv\\lib\\site-packages\\sklearn\\metrics\\_classification.py:1531: UndefinedMetricWarning: Recall is ill-defined and being set to 0.0 in labels with no true samples. Use `zero_division` parameter to control this behavior.\n",
      "  _warn_prf(average, modifier, f\"{metric.capitalize()} is\", len(result))\n",
      "e:\\Project\\FND_new\\myenv\\lib\\site-packages\\sklearn\\metrics\\_classification.py:1531: UndefinedMetricWarning: Recall is ill-defined and being set to 0.0 in labels with no true samples. Use `zero_division` parameter to control this behavior.\n",
      "  _warn_prf(average, modifier, f\"{metric.capitalize()} is\", len(result))\n"
     ]
    }
   ],
   "source": [
    "# # Load the best model (Uncomment if you want to load it)\n",
    "# # best_model = tf.keras.models.load_model('best_model.h5')\n",
    "\n",
    "# # Evaluate the model\n",
    "# loss, accuracy = model.evaluate([padded_docs_headline_test, padded_docs_body_test], labels_test, verbose=0)\n",
    "# print(f\"Test Loss: {loss}\")\n",
    "# print(f\"Test Accuracy: {accuracy}\")\n",
    "\n",
    "# # Predict on the test set\n",
    "# # Use the loaded model for prediction if you uncommented best_model above\n",
    "# # predictions = (best_model.predict([padded_docs_headline_test, padded_docs_body_test]) > 0.5).astype(\"int32\")\n",
    "# predictions = model.predict([padded_docs_headline_test, padded_docs_body_test])\n",
    "\n",
    "# # Convert predictions to class labels\n",
    "# predictions = np.argmax(predictions, axis=1)\n",
    "# true_labels = np.argmax(labels_test, axis=1)\n",
    "\n",
    "# # Confusion Matrix\n",
    "# from sklearn.metrics import confusion_matrix, classification_report\n",
    "\n",
    "# cm = confusion_matrix(true_labels, predictions)\n",
    "# print(\"Confusion Matrix:\")\n",
    "# print(cm)\n",
    "\n",
    "# # Classification Report\n",
    "# cr = classification_report(true_labels, predictions)\n",
    "# print(\"Classification Report:\")\n",
    "# print(cr)\n"
   ]
  },
  {
   "cell_type": "code",
   "execution_count": null,
   "metadata": {},
   "outputs": [],
   "source": []
  }
 ],
 "metadata": {
  "kernelspec": {
   "display_name": "myenv",
   "language": "python",
   "name": "python3"
  },
  "language_info": {
   "codemirror_mode": {
    "name": "ipython",
    "version": 3
   },
   "file_extension": ".py",
   "mimetype": "text/x-python",
   "name": "python",
   "nbconvert_exporter": "python",
   "pygments_lexer": "ipython3",
   "version": "3.10.11"
  }
 },
 "nbformat": 4,
 "nbformat_minor": 2
}
